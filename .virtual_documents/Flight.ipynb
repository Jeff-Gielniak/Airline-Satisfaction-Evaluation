import pandas as pd
import os


# Read the CSV file
Main_df = pd.read_csv("Resources/2018data.csv")
#Kaggle site: https://www.kaggle.com/datasets/yuanyuwendymu/airline-delay-and-cancellation-data-2009-2018?select=2018.csv - 0.5% sample

Main_df=pd.DataFrame(Main_df)

# Display the first few rows
Main_df.head(100)


Main_df.info()


# Get unique values from 'OP_CARRIER'
unique_values = Main_df['OP_CARRIER'].unique()

print(unique_values)


# Create an Airline DataFrame using IATA Airline codes: DL = Delta, AS = Alaska , WN = Southwest
#G4 = Allegiant Air, F9 = Frontier, NK = Spirit Airlines, UA = United Airlines, B6 = JetBlue, AA = American Airlines

# Create a dictionary with IATA codes and Airlines
iata_data = {
    'IATA Code': ['DL', 'AS', 'WN', 'G4', 'F9', 'NK', 'UA', 'B6', 'AA'],
    'Airline': ['Delta Airlines', 'Alaska Airlines', 'Southwest Airlines', 'Allegiant Air', 'Frontier Airlines', 'Spirit Airlines', 'United Airlines', 'JetBlue', 'American Airlines']
}

# Create a DataFrame from the dictionary
IATA_df = pd.DataFrame(iata_data)

# Display the DataFrame
IATA_df


# Export the DataFrame to a CSV file
directory = 'Resources'
file_name = 'IATA_airlines.csv'
file_path = os.path.join(directory, file_name)
IATA_df.to_csv(file_path, index=False)


#Clean the Main data to remove smaller airlines or obsolete values
# List of carriers to remove
carriers_to_remove = ['HA', 'MQ', 'OO', 'YV', 'EV', '9E', 'VX', 'YX', 'OH']

# Remove rows where 'OP_CARRIER' is in the list of carriers to remove
Main_df2 = Main_df[~Main_df['OP_CARRIER'].isin(carriers_to_remove)]

# Display the filtered DataFrame
Main_df2


# Make sure we are down to the 9 main carriers
unique_values = Main_df2['OP_CARRIER'].unique()

print(unique_values)


# Clean the DataFrame down to only the columns we need
# Specify the columns to keep
columns_to_keep = ['FL_DATE', 'OP_CARRIER', 'OP_CARRIER_FL_NUM','ORIGIN', 'DEST', 'CRS_DEP_TIME', 'DEP_TIME', 
                   'DEP_DELAY', 'CRS_ARR_TIME', 'ARR_TIME', 'CANCELLED', 'AIR_TIME', 'DISTANCE' ]

# Create a new DataFrame with only the specified columns
Main_df3 = Main_df2[columns_to_keep]

# Display the new DataFrame
Main_df3


Main_df3.info()


# Export the DataFrame to a CSV file
directory = 'Resources'
file_name = 'Main_flight_data.csv'
file_path = os.path.join(directory, file_name)
Main_df3.to_csv(file_path, index=False)


# Read the CSV file
Airports_df = pd.read_csv("Resources/us-airports.csv")
#site: https://data.humdata.org/dataset/ourairports-usa

Airports_df=pd.DataFrame(Airports_df)

# Display the first few rows
Airports_df


# Get unique values from 'type'
unique_values = Airports_df['type'].unique()

print(unique_values)


#Keep only large_airport and medium_airport
filtered_airports_df = Airports_df[(Airports_df['type'] == 'large_airport')]
filtered_airports_df.head()


filtered_airports_df.info()


#Specify the columns to keep
columns_to_keep = ['name', 'iata_code']

# Create a new DataFrame with only the specified columns
airport_code_df = filtered_airports_df[columns_to_keep]

# Display the new DataFrame
airport_code_df


# Export the DataFrame to a CSV file
directory = 'Resources'
file_name = 'IATA_airports.csv'
file_path = os.path.join(directory, file_name)
airport_code_df.to_csv(file_path, index=False)


#Clean the Ratings file
# Read the CSV file
reviews_sample_df = pd.read_csv("Resources/AirlineReviews_ten_percent.csv")
#Kaggle site: https://www.kaggle.com/datasets/joelljungstrom/128k-airline-reviews - took 10% sample

reviews_sample_df=pd.DataFrame(reviews_sample_df)

# Display the first few rows
reviews_sample_df.head(100)


# Get unique values of carriers
unique_values = reviews_sample_df['AirlineName'].unique()

print(unique_values)


#Take only data from the 9 airlines we're interested in
# List of carriers to keep
airlines_to_keep = ['American Airlines', 'Delta Air Lines', 'Spirit Airlines', 'Alaska Airlines', 'Southwest Airlines',
                   'Allegiant Air', 'Frontier Airlines', 'United Airlines', 'Jetblue Airways']

# Create a new DataFrame with only the specified airlines
reviews_sample_df2 = reviews_sample_df[reviews_sample_df['AirlineName'].isin(airlines_to_keep)]

# Display the new DataFrame
reviews_sample_df2.head()


reviews_sample_df2.info()


# Get unique values from 'type'
unique_values = reviews_sample_df2['AirlineName'].unique()

print(unique_values)


# Clean the DataFrame down to only the columns we need
# Specify the columns to keep
columns_to_keep = ['AirlineName', 'DateFlown','OriginCountry', 'CabinType', 'Recommended', 'Route', 'TravelType', 
                   'OverallScore', 'SeatComfortRating', 'EntertainmentRating', 'FoodRating', 'GroundServiceRating',
                    'ServiceRating', 'ValueRating', 'WifiRating']

# Create a new DataFrame with only the specified columns
reviews_sample_df3 = reviews_sample_df2[columns_to_keep]

# Display the new DataFrame
reviews_sample_df3


# Get unique values from 'type'
unique_values = reviews_sample_df3['OriginCountry'].unique()

print(unique_values)


#Only flights originating from the US
countries_to_keep = ['UnitedStates']

# Create a new DataFrame with only the specified airlines
reviews_sample_df3 = reviews_sample_df3[reviews_sample_df3['OriginCountry'].isin(countries_to_keep)]

# Display the new DataFrame
reviews_sample_df3


# Calculate the average score grouped by AirlineName
average_scores = reviews_sample_df3.groupby('AirlineName')['OverallScore'].mean().reset_index()

# Rename the columns for clarity (optional)
average_scores.columns = ['AirlineName', 'AverageOverallScore']


# Display the new DataFrame
Airline_reviews_df = pd.DataFrame(average_scores)
Airline_reviews_df['AverageOverallScore']= Airline_reviews_df['AverageOverallScore'].apply(lambda x: f"{x:.2f}")
Airline_reviews_df


# Export the DataFrame to a CSV file
directory = 'Resources'
file_name = 'Airline_reviews.csv'
file_path = os.path.join(directory, file_name)
Airline_reviews_df.to_csv(file_path, index=False)





# Import SQL Alchemy for connecting to DBs
from sqlalchemy import create_engine, inspect

# Import and establish Base for which classes will be constructed
from sqlalchemy.orm import declarative_base
Base = declarative_base()

# Import modules to declare columns and data types
from sqlalchemy import Column, Integer, String, Float, ForeignKey, func


# Create DB Engine
engine = create_engine("sqlite:///flights.db")


# Create a Session Object to Connect to DB
from sqlalchemy.orm import Session
session = Session(bind=engine)
session


# Create an Airline Class
class Airline(Base):
    __tablename__ = 'airlines'
    IATA_code = Column(String(2), primary_key=True)
    Airline = Column(String(30))

# Create an Airport Class
class Airport(Base):
    __tablename__ = 'airports'
    iata_code = Column(String(3), primary_key=True)
    name = Column(String(30))

# Create an Airline Rating Class
class AirlineRating(Base):
    __tablename__ = 'airline_ratings'
    AirlineName = Column(String(30), primary_key=True)
    AverageOverallScore = Column(Integer)

# Create an Flight Data Class
class FlightData(Base):
    __tablename__ = 'flight_data'
    id = Column(Integer, primary_key=True)
    FL_DATE = Column(String(30))
    OP_CARRIER = Column(String(2), ForeignKey('airlines.IATA_code'))
    OP_CARRIER_FL_NUM = Column(Integer)
    ORIGIN = Column(String(3), ForeignKey('airports.iata_code'))
    DEST = Column(String(3), ForeignKey('airports.iata_code'))
    CRS_DEP_TIME = Column(Integer)
    DEP_TIME = Column(Float)
    DEP_DELAY = Column(Float)
    CRS_ARR_TIME = Column(Integer)
    ARR_TIME = Column(Float)
    CANCELLED = Column(Float)
    AIR_TIME = Column(Float)
    DISTANCE = Column(Float)

# Create tables
Base.metadata.create_all(engine)


# Get the table names using
inspector = inspect(engine)
inspector.get_table_names()


# Get a list of column names and types
columns = inspector.get_columns('airlines')
for c in columns:
    print(c['name'], c["type"])


# Get a list of column names and types
columns = inspector.get_columns('airports')
for c in columns:
    print(c['name'], c["type"])


# Get a list of column names and types
columns = inspector.get_columns('airline_ratings')
for c in columns:
    print(c['name'], c["type"])


# Get a list of column names and types
columns = inspector.get_columns('flight_data')
for c in columns:
    print(c['name'], c["type"])


# Load existing data into flight data
Main_df3.to_sql('flight_data', con=engine, if_exists='append', index=False)


results = session.query(
    FlightData.FL_DATE,
    FlightData.OP_CARRIER,
    Airline.Airline,
    FlightData.DEP_DELAY
).limit(10).all()

for row in results:
    print(row)



