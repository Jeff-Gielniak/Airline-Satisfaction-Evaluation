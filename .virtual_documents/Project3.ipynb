import pandas as pd

# Read the CSV file
Air_Traffic_df = pd.read_csv("Resources/flight_delay_1percent.csv")
#Kaggle site: https://www.kaggle.com/datasets/threnjen/2019-airline-delays-and-cancellations - took 1% of data

Air_Traffic_df=pd.DataFrame(Air_Traffic_df)

# Display the first few rows
Air_Traffic_df.head(10)


Air_Traffic_df.info()


# Read the CSV file
monthly_df = pd.read_csv("Resources/air traffic.csv")
#Kaggle site: https://www.kaggle.com/datasets/yyxian/u-s-airline-traffic-data

monthly_df=pd.DataFrame(monthly_df)

# Display the first few rows
monthly_df.head(100)


monthly_df.info()


# Read the CSV file
reviews_sample_df = pd.read_csv("Resources/AirlineReviews_ten_percent.csv")
#Kaggle site: https://www.kaggle.com/datasets/joelljungstrom/128k-airline-reviews - took 10% sample

reviews_sample_df=pd.DataFrame(reviews_sample_df)

# Display the first few rows
reviews_sample_df.head(100)


# Get unique values of carriers
unique_values = reviews_sample_df['AirlineName'].unique()

print(unique_values)


reviews_df.info()


# Read the CSV file
delay_sample_df = pd.read_csv("Resources/flight_data_ten_percent.csv")
#Kaggle site: https://www.kaggle.com/datasets/veskovujovic/airline-delay-and-cancellation-data-2018 - 10 percent of data

delay_sample_df=pd.DataFrame(delay_sample_df)

# Display the first few rows
delay_sample_df.head(100)


delay_df.info()


# Read the CSV file
Main_df = pd.read_csv("Resources/2018data.csv")
#Kaggle site: https://www.kaggle.com/datasets/yuanyuwendymu/airline-delay-and-cancellation-data-2009-2018?select=2018.csv - 0.5% sample

Main_df=pd.DataFrame(Main_df)

# Display the first few rows
Main_df.head(5)


Main_df.info()






